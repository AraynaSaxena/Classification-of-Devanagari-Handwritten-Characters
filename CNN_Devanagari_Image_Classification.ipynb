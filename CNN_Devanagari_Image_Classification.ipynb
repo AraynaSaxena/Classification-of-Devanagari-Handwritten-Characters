{
  "nbformat": 4,
  "nbformat_minor": 0,
  "metadata": {
    "colab": {
      "provenance": [],
      "gpuType": "T4"
    },
    "kernelspec": {
      "name": "python3",
      "display_name": "Python 3"
    },
    "language_info": {
      "name": "python"
    }
  },
  "cells": [
    {
      "cell_type": "code",
      "execution_count": null,
      "metadata": {
        "colab": {
          "base_uri": "https://localhost:8080/"
        },
        "id": "jbsY5yoHujZI",
        "outputId": "63479a42-d649-4e4f-f2b6-8845d2da3c70"
      },
      "outputs": [
        {
          "output_type": "stream",
          "name": "stdout",
          "text": [
            "Archive:  /content/drive/MyDrive/4 Week - ML batch/Devanagari/Devanagari.zip\n",
            "replace /content/drive/MyDrive/Devanagari/Devanagari/TEST/10/001_01.jpg? [y]es, [n]o, [A]ll, [N]one, [r]ename: "
          ]
        }
      ],
      "source": [
        "#!unzip \"/content/drive/MyDrive/4 Week - ML batch/Devanagari/Devanagari.zip\" -d \"/content/drive/MyDrive/Devanagari/\""
      ]
    },
    {
      "cell_type": "code",
      "source": [
        "import cv2\n",
        "import numpy as np\n",
        "import os\n",
        "import matplotlib.pyplot as plt\n",
        "import seaborn as sns\n",
        "from PIL import Image\n",
        "from google.colab.patches import cv2_imshow"
      ],
      "metadata": {
        "id": "bs45Lu7IxmE6"
      },
      "execution_count": 1,
      "outputs": []
    },
    {
      "cell_type": "code",
      "source": [
        "# Open & Read Devanagari Images\n",
        "dev_image = Image.open(\"/content/drive/MyDrive/Devanagari/Devanagari/TRAIN/1/010_09.jpg\")\n",
        "dev_image1 = Image.open(\"/content/drive/MyDrive/Devanagari/Devanagari/TRAIN/2/010_09.jpg\")\n",
        "dev_image2 = Image.open(\"/content/drive/MyDrive/Devanagari/Devanagari/TRAIN/3/010_09.jpg\")\n",
        "dev_image3 = Image.open(\"/content/drive/MyDrive/Devanagari/Devanagari/TRAIN/4/010_09.jpg\")\n",
        "dev_image4 = Image.open(\"/content/drive/MyDrive/Devanagari/Devanagari/TRAIN/5/010_09.jpg\")"
      ],
      "metadata": {
        "id": "S42EtD2zzY5t"
      },
      "execution_count": 2,
      "outputs": []
    },
    {
      "cell_type": "code",
      "source": [
        "# Let create a subplot to display all five Images\n",
        "fig = plt.figure(figsize = (18,3))\n",
        "fig.add_subplot(1, 5, 1)\n",
        "img_plot = plt.imshow(dev_image, cmap = 'gray')\n",
        "\n",
        "fig.add_subplot(1, 5, 2)\n",
        "img_plot = plt.imshow(dev_image1, cmap = 'gray')\n",
        "\n",
        "fig.add_subplot(1, 5, 3)\n",
        "img_plot = plt.imshow(dev_image2, cmap = 'gray')\n",
        "\n",
        "fig.add_subplot(1, 5, 4)\n",
        "img_plot = plt.imshow(dev_image3, cmap = 'gray')\n",
        "\n",
        "fig.add_subplot(1, 5, 5)\n",
        "img_plot = plt.imshow(dev_image4, cmap = 'gray')"
      ],
      "metadata": {
        "colab": {
          "base_uri": "https://localhost:8080/",
          "height": 172
        },
        "id": "fmIu2SvFz0Pj",
        "outputId": "886a5083-eb4e-43b3-eb39-819842e5f38e"
      },
      "execution_count": 3,
      "outputs": [
        {
          "output_type": "display_data",
          "data": {
            "text/plain": [
              "<Figure size 1800x300 with 5 Axes>"
            ],
            "image/png": "[encoded data removed]"
          },
          "metadata": {}
        }
      ]
    },
    {
      "cell_type": "code",
      "source": [
        "train_folder = \"/content/drive/MyDrive/Devanagari/Devanagari/TRAIN/\"\n",
        "test_folder = \"/content/drive/MyDrive/Devanagari/Devanagari/TEST/\""
      ],
      "metadata": {
        "id": "DGrJaVbX0XDg"
      },
      "execution_count": 4,
      "outputs": []
    },
    {
      "cell_type": "markdown",
      "source": [
        "##### Data Augmentation\n",
        "    * Augmentation is a process of generating new training samples by pre-processing image data."
      ],
      "metadata": {
        "id": "keH2WtWU2OJp"
      }
    },
    {
      "cell_type": "code",
      "source": [
        "from numpy import expand_dims\n",
        "from tensorflow.keras.preprocessing.image import load_img, img_to_array, ImageDataGenerator"
      ],
      "metadata": {
        "id": "rtt3ACGJ2L5A"
      },
      "execution_count": 5,
      "outputs": []
    },
    {
      "cell_type": "code",
      "source": [
        "img = load_img(train_folder + '1/010_09.jpg')\n",
        "data = img_to_array(img)\n",
        "data"
      ],
      "metadata": {
        "colab": {
          "base_uri": "https://localhost:8080/"
        },
        "id": "dx3wBspk2wpG",
        "outputId": "70a1639d-0cc3-4739-aa9a-2dfd9bd690f9"
      },
      "execution_count": 6,
      "outputs": [
        {
          "output_type": "execute_result",
          "data": {
            "text/plain": [
              "array([[[255., 255., 255.],\n",
              "        [253., 253., 253.],\n",
              "        [251., 251., 251.],\n",
              "        ...,\n",
              "        [255., 255., 255.],\n",
              "        [250., 250., 250.],\n",
              "        [245., 245., 245.]],\n",
              "\n",
              "       [[234., 234., 234.],\n",
              "        [217., 217., 217.],\n",
              "        [184., 184., 184.],\n",
              "        ...,\n",
              "        [250., 250., 250.],\n",
              "        [249., 249., 249.],\n",
              "        [255., 255., 255.]],\n",
              "\n",
              "       [[ 96.,  96.,  96.],\n",
              "        [ 80.,  80.,  80.],\n",
              "        [ 38.,  38.,  38.],\n",
              "        ...,\n",
              "        [247., 247., 247.],\n",
              "        [243., 243., 243.],\n",
              "        [255., 255., 255.]],\n",
              "\n",
              "       ...,\n",
              "\n",
              "       [[254., 254., 254.],\n",
              "        [254., 254., 254.],\n",
              "        [254., 254., 254.],\n",
              "        ...,\n",
              "        [212., 212., 212.],\n",
              "        [255., 255., 255.],\n",
              "        [255., 255., 255.]],\n",
              "\n",
              "       [[255., 255., 255.],\n",
              "        [255., 255., 255.],\n",
              "        [255., 255., 255.],\n",
              "        ...,\n",
              "        [254., 254., 254.],\n",
              "        [255., 255., 255.],\n",
              "        [255., 255., 255.]],\n",
              "\n",
              "       [[255., 255., 255.],\n",
              "        [255., 255., 255.],\n",
              "        [255., 255., 255.],\n",
              "        ...,\n",
              "        [250., 250., 250.],\n",
              "        [251., 251., 251.],\n",
              "        [251., 251., 251.]]], dtype=float32)"
            ]
          },
          "metadata": {},
          "execution_count": 6
        }
      ]
    },
    {
      "cell_type": "code",
      "source": [
        "data.shape\n",
        "samples = expand_dims(data, 0)\n",
        "samples.shape"
      ],
      "metadata": {
        "colab": {
          "base_uri": "https://localhost:8080/"
        },
        "id": "SyCJVa5k4asM",
        "outputId": "7e0ef982-04ba-46f4-997b-2a6e17542aec"
      },
      "execution_count": 7,
      "outputs": [
        {
          "output_type": "execute_result",
          "data": {
            "text/plain": [
              "(1, 28, 28, 3)"
            ]
          },
          "metadata": {},
          "execution_count": 7
        }
      ]
    },
    {
      "cell_type": "code",
      "source": [
        "datagen = ImageDataGenerator(brightness_range=[0.8,1.5])\n",
        "IDG = datagen.flow(samples, batch_size = 1)\n",
        "fig, ax = plt.subplots(1, 5, figsize = (18,6))\n",
        "for i in range(5):\n",
        "    fig = plt.figure()\n",
        "    batch = IDG.next()\n",
        "    image = batch[0].astype('uint8')\n",
        "    ax[i].imshow(image)\n",
        "plt.show()"
      ],
      "metadata": {
        "colab": {
          "base_uri": "https://localhost:8080/",
          "height": 263
        },
        "id": "yo4Gi1Hn33Yu",
        "outputId": "a1e87e11-ada0-4bbf-cc02-2aa805d7ece4"
      },
      "execution_count": 8,
      "outputs": [
        {
          "output_type": "display_data",
          "data": {
            "text/plain": [
              "<Figure size 1800x600 with 5 Axes>"
            ],
            "image/png": "[encoded data removed]"
          },
          "metadata": {}
        },
        {
          "output_type": "display_data",
          "data": {
            "text/plain": [
              "<Figure size 640x480 with 0 Axes>"
            ]
          },
          "metadata": {}
        },
        {
          "output_type": "display_data",
          "data": {
            "text/plain": [
              "<Figure size 640x480 with 0 Axes>"
            ]
          },
          "metadata": {}
        },
        {
          "output_type": "display_data",
          "data": {
            "text/plain": [
              "<Figure size 640x480 with 0 Axes>"
            ]
          },
          "metadata": {}
        },
        {
          "output_type": "display_data",
          "data": {
            "text/plain": [
              "<Figure size 640x480 with 0 Axes>"
            ]
          },
          "metadata": {}
        },
        {
          "output_type": "display_data",
          "data": {
            "text/plain": [
              "<Figure size 640x480 with 0 Axes>"
            ]
          },
          "metadata": {}
        }
      ]
    },
    {
      "cell_type": "code",
      "source": [
        "# zoom in and zoom out of image data (+- 20%)\n",
        "datagen = ImageDataGenerator(zoom_range = 0.2)\n",
        "IDG = datagen.flow(samples, batch_size = 1)\n",
        "fig, ax = plt.subplots(1, 5, figsize = (18,6))\n",
        "for i in range(5):\n",
        "    fig = plt.figure()\n",
        "    batch = IDG.next()\n",
        "    image = batch[0].astype('uint8')\n",
        "    ax[i].imshow(image)\n",
        "plt.show()"
      ],
      "metadata": {
        "colab": {
          "base_uri": "https://localhost:8080/",
          "height": 263
        },
        "id": "C7Zamjiu5PRr",
        "outputId": "9c3d66f9-4210-40d5-de93-6ed356700cc8"
      },
      "execution_count": 9,
      "outputs": [
        {
          "output_type": "display_data",
          "data": {
            "text/plain": [
              "<Figure size 1800x600 with 5 Axes>"
            ],
            "image/png": "[encoded data removed]"
          },
          "metadata": {}
        },
        {
          "output_type": "display_data",
          "data": {
            "text/plain": [
              "<Figure size 640x480 with 0 Axes>"
            ]
          },
          "metadata": {}
        },
        {
          "output_type": "display_data",
          "data": {
            "text/plain": [
              "<Figure size 640x480 with 0 Axes>"
            ]
          },
          "metadata": {}
        },
        {
          "output_type": "display_data",
          "data": {
            "text/plain": [
              "<Figure size 640x480 with 0 Axes>"
            ]
          },
          "metadata": {}
        },
        {
          "output_type": "display_data",
          "data": {
            "text/plain": [
              "<Figure size 640x480 with 0 Axes>"
            ]
          },
          "metadata": {}
        },
        {
          "output_type": "display_data",
          "data": {
            "text/plain": [
              "<Figure size 640x480 with 0 Axes>"
            ]
          },
          "metadata": {}
        }
      ]
    },
    {
      "cell_type": "code",
      "source": [
        "# rotating image 20 degree\n",
        "datagen = ImageDataGenerator(rotation_range=20)\n",
        "IDG = datagen.flow(samples, batch_size = 1)\n",
        "fig, ax = plt.subplots(1, 5, figsize = (18,6))\n",
        "for i in range(5):\n",
        "    fig = plt.figure()\n",
        "    batch = IDG.next()\n",
        "    image = batch[0].astype('uint8')\n",
        "    ax[i].imshow(image)\n",
        "plt.show()"
      ],
      "metadata": {
        "colab": {
          "base_uri": "https://localhost:8080/",
          "height": 263
        },
        "id": "A9iDAqgP5qqP",
        "outputId": "fdfbe45e-8f11-4abb-926f-d45360aedea9"
      },
      "execution_count": 10,
      "outputs": [
        {
          "output_type": "display_data",
          "data": {
            "text/plain": [
              "<Figure size 1800x600 with 5 Axes>"
            ],
            "image/png": "[encoded data removed]"
          },
          "metadata": {}
        },
        {
          "output_type": "display_data",
          "data": {
            "text/plain": [
              "<Figure size 640x480 with 0 Axes>"
            ]
          },
          "metadata": {}
        },
        {
          "output_type": "display_data",
          "data": {
            "text/plain": [
              "<Figure size 640x480 with 0 Axes>"
            ]
          },
          "metadata": {}
        },
        {
          "output_type": "display_data",
          "data": {
            "text/plain": [
              "<Figure size 640x480 with 0 Axes>"
            ]
          },
          "metadata": {}
        },
        {
          "output_type": "display_data",
          "data": {
            "text/plain": [
              "<Figure size 640x480 with 0 Axes>"
            ]
          },
          "metadata": {}
        },
        {
          "output_type": "display_data",
          "data": {
            "text/plain": [
              "<Figure size 640x480 with 0 Axes>"
            ]
          },
          "metadata": {}
        }
      ]
    },
    {
      "cell_type": "code",
      "source": [
        "train_datagen = ImageDataGenerator(rescale = 1./255, zoom_range = 0.2, brightness_range=[0.8,1.5], rotation_range=20)\n",
        "test_datagen = ImageDataGenerator(rescale = 1./255)"
      ],
      "metadata": {
        "id": "VAT3YYBZ7ZbL"
      },
      "execution_count": 11,
      "outputs": []
    },
    {
      "cell_type": "code",
      "source": [
        "training_set = train_datagen.flow_from_directory(train_folder, target_size = (64,64), batch_size = 64, class_mode = 'categorical')\n",
        "test_set = test_datagen.flow_from_directory(test_folder, target_size = (64,64), batch_size = 64, class_mode = 'categorical')"
      ],
      "metadata": {
        "colab": {
          "base_uri": "https://localhost:8080/"
        },
        "id": "J1os6Io7589r",
        "outputId": "7ce313c0-34fb-467a-ebf2-bcf27aca1c5b"
      },
      "execution_count": 12,
      "outputs": [
        {
          "output_type": "stream",
          "name": "stdout",
          "text": [
            "Found 6528 images belonging to 48 classes.\n",
            "Found 3312 images belonging to 48 classes.\n"
          ]
        }
      ]
    },
    {
      "cell_type": "code",
      "source": [
        "training_set.image_shape"
      ],
      "metadata": {
        "colab": {
          "base_uri": "https://localhost:8080/"
        },
        "id": "ZDDQKeY87Q_a",
        "outputId": "ea6e768f-86f2-47b2-8e15-4bfb0c483235"
      },
      "execution_count": 13,
      "outputs": [
        {
          "output_type": "execute_result",
          "data": {
            "text/plain": [
              "(64, 64, 3)"
            ]
          },
          "metadata": {},
          "execution_count": 13
        }
      ]
    },
    {
      "cell_type": "markdown",
      "source": [
        "##### CNN"
      ],
      "metadata": {
        "id": "bd6kHHoW8c4s"
      }
    },
    {
      "cell_type": "code",
      "source": [
        "from tensorflow.keras.layers import BatchNormalization\n",
        "from tensorflow.keras.models import Sequential\n",
        "from tensorflow.keras.layers import Dense, Conv2D, MaxPooling2D, Flatten"
      ],
      "metadata": {
        "id": "9F1AQTFr8YQu"
      },
      "execution_count": 14,
      "outputs": []
    },
    {
      "cell_type": "code",
      "source": [
        "def build_model():\n",
        "    model = Sequential()\n",
        "    # ConvNet - I\n",
        "    model.add(Conv2D(filters = 128, kernel_size = (3,3), padding = 'same', activation = 'relu', input_shape = training_set.image_shape))\n",
        "    model.add(BatchNormalization())\n",
        "    model.add(MaxPooling2D(pool_size = (2,2), strides = (2,2)))\n",
        "    # ConvNet - II\n",
        "    model.add(Conv2D(filters = 128, kernel_size = (3,3), padding = 'same', activation = 'relu'))\n",
        "    model.add(BatchNormalization())\n",
        "    model.add(MaxPooling2D(pool_size = (2,2), strides = (2,2)))\n",
        "    # ConvNet - III\n",
        "    model.add(Conv2D(filters = 256, kernel_size = (3,3), padding = 'same', activation = 'relu'))\n",
        "    model.add(BatchNormalization())\n",
        "    model.add(MaxPooling2D(pool_size = (2,2), strides = (2,2)))\n",
        "    # ConvNet - IV\n",
        "    model.add(Conv2D(filters = 512, kernel_size = (3,3), padding = 'same', activation = 'relu'))\n",
        "    model.add(BatchNormalization())\n",
        "    model.add(MaxPooling2D(pool_size = (2,2), strides = (2,2)))\n",
        "\n",
        "    # Flatten Matrix\n",
        "    model.add(Flatten())\n",
        "\n",
        "    # Fully Connected Layer (FC-Layer)\n",
        "    model.add(Dense(units = 512, activation = 'relu'))\n",
        "    model.add(Dense(units = 48, activation = 'softmax'))\n",
        "\n",
        "    model.compile(optimizer = 'Adam', loss = 'categorical_crossentropy',metrics = ['accuracy'])\n",
        "\n",
        "    return model"
      ],
      "metadata": {
        "id": "OJdPJD7D80Q2"
      },
      "execution_count": 15,
      "outputs": []
    },
    {
      "cell_type": "code",
      "source": [
        "model = build_model()"
      ],
      "metadata": {
        "id": "g7WgRp0p9xsn"
      },
      "execution_count": 16,
      "outputs": []
    },
    {
      "cell_type": "code",
      "source": [
        "model.summary()"
      ],
      "metadata": {
        "colab": {
          "base_uri": "https://localhost:8080/"
        },
        "id": "rsecPZgg-xZc",
        "outputId": "150cc80e-f3e4-4700-b9ab-9451e0f72745"
      },
      "execution_count": 17,
      "outputs": [
        {
          "output_type": "stream",
          "name": "stdout",
          "text": [
            "Model: \"sequential\"\n",
            "_________________________________________________________________\n",
            " Layer (type)                Output Shape              Param #   \n",
            "=================================================================\n",
            " conv2d (Conv2D)             (None, 64, 64, 128)       3584      \n",
            "                                                                 \n",
            " batch_normalization (BatchN  (None, 64, 64, 128)      512       \n",
            " ormalization)                                                   \n",
            "                                                                 \n",
            " max_pooling2d (MaxPooling2D  (None, 32, 32, 128)      0         \n",
            " )                                                               \n",
            "                                                                 \n",
            " conv2d_1 (Conv2D)           (None, 32, 32, 128)       147584    \n",
            "                                                                 \n",
            " batch_normalization_1 (Batc  (None, 32, 32, 128)      512       \n",
            " hNormalization)                                                 \n",
            "                                                                 \n",
            " max_pooling2d_1 (MaxPooling  (None, 16, 16, 128)      0         \n",
            " 2D)                                                             \n",
            "                                                                 \n",
            " conv2d_2 (Conv2D)           (None, 16, 16, 256)       295168    \n",
            "                                                                 \n",
            " batch_normalization_2 (Batc  (None, 16, 16, 256)      1024      \n",
            " hNormalization)                                                 \n",
            "                                                                 \n",
            " max_pooling2d_2 (MaxPooling  (None, 8, 8, 256)        0         \n",
            " 2D)                                                             \n",
            "                                                                 \n",
            " conv2d_3 (Conv2D)           (None, 8, 8, 512)         1180160   \n",
            "                                                                 \n",
            " batch_normalization_3 (Batc  (None, 8, 8, 512)        2048      \n",
            " hNormalization)                                                 \n",
            "                                                                 \n",
            " max_pooling2d_3 (MaxPooling  (None, 4, 4, 512)        0         \n",
            " 2D)                                                             \n",
            "                                                                 \n",
            " flatten (Flatten)           (None, 8192)              0         \n",
            "                                                                 \n",
            " dense (Dense)               (None, 512)               4194816   \n",
            "                                                                 \n",
            " dense_1 (Dense)             (None, 48)                24624     \n",
            "                                                                 \n",
            "=================================================================\n",
            "Total params: 5,850,032\n",
            "Trainable params: 5,847,984\n",
            "Non-trainable params: 2,048\n",
            "_________________________________________________________________\n"
          ]
        }
      ]
    },
    {
      "cell_type": "code",
      "source": [
        "from tensorflow.keras import callbacks\n",
        "\n",
        "filepath=\"/content/drive/MyDrive/DevBest_Model.hdf5\"\n",
        "checkpoint = callbacks.ModelCheckpoint(filepath, monitor='val_loss',save_best_only=True, mode='min',verbose=1)\n",
        "callbacks_list = [checkpoint]"
      ],
      "metadata": {
        "id": "9HEF_oGQ-3QJ"
      },
      "execution_count": 18,
      "outputs": []
    },
    {
      "cell_type": "code",
      "source": [
        "history = model.fit(training_set, epochs = 30, shuffle = True, validation_data= test_set,\n",
        "                    callbacks = callbacks_list, verbose = 1)"
      ],
      "metadata": {
        "colab": {
          "base_uri": "https://localhost:8080/"
        },
        "id": "bvqN8Koj_Nal",
        "outputId": "d427703d-8b6e-4ef2-db14-856b8d79d3f3"
      },
      "execution_count": null,
      "outputs": [
        {
          "output_type": "stream",
          "name": "stdout",
          "text": [
            "Epoch 1/30\n",
            "102/102 [==============================] - ETA: 0s - loss: 3.5373 - accuracy: 0.2779 \n",
            "Epoch 1: val_loss improved from inf to 7.25634, saving model to /content/drive/MyDrive/DevBest_Model.hdf5\n",
            "102/102 [==============================] - 1942s 19s/step - loss: 3.5373 - accuracy: 0.2779 - val_loss: 7.2563 - val_accuracy: 0.0275\n",
            "Epoch 2/30\n",
            "102/102 [==============================] - ETA: 0s - loss: 1.1464 - accuracy: 0.6607\n",
            "Epoch 2: val_loss improved from 7.25634 to 6.94357, saving model to /content/drive/MyDrive/DevBest_Model.hdf5\n",
            "102/102 [==============================] - 27s 268ms/step - loss: 1.1464 - accuracy: 0.6607 - val_loss: 6.9436 - val_accuracy: 0.0722\n",
            "Epoch 3/30\n",
            "102/102 [==============================] - ETA: 0s - loss: 0.6802 - accuracy: 0.7937\n",
            "Epoch 3: val_loss improved from 6.94357 to 4.78444, saving model to /content/drive/MyDrive/DevBest_Model.hdf5\n",
            "102/102 [==============================] - 27s 263ms/step - loss: 0.6802 - accuracy: 0.7937 - val_loss: 4.7844 - val_accuracy: 0.1869\n",
            "Epoch 4/30\n",
            "102/102 [==============================] - ETA: 0s - loss: 0.5211 - accuracy: 0.8338\n",
            "Epoch 4: val_loss improved from 4.78444 to 3.25671, saving model to /content/drive/MyDrive/DevBest_Model.hdf5\n",
            "102/102 [==============================] - 26s 257ms/step - loss: 0.5211 - accuracy: 0.8338 - val_loss: 3.2567 - val_accuracy: 0.4239\n",
            "Epoch 5/30\n",
            "102/102 [==============================] - ETA: 0s - loss: 0.3997 - accuracy: 0.8765\n",
            "Epoch 5: val_loss improved from 3.25671 to 1.49573, saving model to /content/drive/MyDrive/DevBest_Model.hdf5\n",
            "102/102 [==============================] - 26s 259ms/step - loss: 0.3997 - accuracy: 0.8765 - val_loss: 1.4957 - val_accuracy: 0.6298\n",
            "Epoch 6/30\n",
            "102/102 [==============================] - ETA: 0s - loss: 0.3332 - accuracy: 0.8943\n",
            "Epoch 6: val_loss did not improve from 1.49573\n",
            "102/102 [==============================] - 25s 248ms/step - loss: 0.3332 - accuracy: 0.8943 - val_loss: 4.9107 - val_accuracy: 0.3786\n",
            "Epoch 7/30\n",
            "102/102 [==============================] - ETA: 0s - loss: 0.2652 - accuracy: 0.9199\n",
            "Epoch 7: val_loss improved from 1.49573 to 0.50366, saving model to /content/drive/MyDrive/DevBest_Model.hdf5\n",
            "102/102 [==============================] - 26s 254ms/step - loss: 0.2652 - accuracy: 0.9199 - val_loss: 0.5037 - val_accuracy: 0.8542\n",
            "Epoch 8/30\n",
            "102/102 [==============================] - ETA: 0s - loss: 0.2462 - accuracy: 0.9197\n",
            "Epoch 8: val_loss did not improve from 0.50366\n",
            "102/102 [==============================] - 25s 245ms/step - loss: 0.2462 - accuracy: 0.9197 - val_loss: 6.1213 - val_accuracy: 0.4034\n",
            "Epoch 9/30\n",
            "102/102 [==============================] - ETA: 0s - loss: 0.1982 - accuracy: 0.9352\n",
            "Epoch 9: val_loss did not improve from 0.50366\n",
            "102/102 [==============================] - 27s 263ms/step - loss: 0.1982 - accuracy: 0.9352 - val_loss: 1.2704 - val_accuracy: 0.7032\n",
            "Epoch 10/30\n",
            "102/102 [==============================] - ETA: 0s - loss: 0.1985 - accuracy: 0.9350\n",
            "Epoch 10: val_loss improved from 0.50366 to 0.45505, saving model to /content/drive/MyDrive/DevBest_Model.hdf5\n",
            "102/102 [==============================] - 26s 259ms/step - loss: 0.1985 - accuracy: 0.9350 - val_loss: 0.4551 - val_accuracy: 0.8829\n",
            "Epoch 11/30\n",
            "102/102 [==============================] - ETA: 0s - loss: 0.1763 - accuracy: 0.9387\n",
            "Epoch 11: val_loss did not improve from 0.45505\n",
            "102/102 [==============================] - 26s 253ms/step - loss: 0.1763 - accuracy: 0.9387 - val_loss: 13.8780 - val_accuracy: 0.2412\n",
            "Epoch 12/30\n",
            "102/102 [==============================] - ETA: 0s - loss: 0.1799 - accuracy: 0.9424\n",
            "Epoch 12: val_loss did not improve from 0.45505\n",
            "102/102 [==============================] - 25s 247ms/step - loss: 0.1799 - accuracy: 0.9424 - val_loss: 0.6120 - val_accuracy: 0.8412\n",
            "Epoch 13/30\n",
            "102/102 [==============================] - ETA: 0s - loss: 0.1436 - accuracy: 0.9514\n",
            "Epoch 13: val_loss did not improve from 0.45505\n",
            "102/102 [==============================] - 25s 249ms/step - loss: 0.1436 - accuracy: 0.9514 - val_loss: 0.5254 - val_accuracy: 0.8705\n",
            "Epoch 14/30\n",
            "102/102 [==============================] - ETA: 0s - loss: 0.1527 - accuracy: 0.9499\n",
            "Epoch 14: val_loss did not improve from 0.45505\n",
            "102/102 [==============================] - 26s 253ms/step - loss: 0.1527 - accuracy: 0.9499 - val_loss: 0.4873 - val_accuracy: 0.8886\n",
            "Epoch 15/30\n",
            "102/102 [==============================] - ETA: 0s - loss: 0.1376 - accuracy: 0.9562\n",
            "Epoch 15: val_loss did not improve from 0.45505\n",
            "102/102 [==============================] - 25s 248ms/step - loss: 0.1376 - accuracy: 0.9562 - val_loss: 0.9726 - val_accuracy: 0.7850\n",
            "Epoch 16/30\n",
            "102/102 [==============================] - ETA: 0s - loss: 0.1208 - accuracy: 0.9614\n",
            "Epoch 16: val_loss did not improve from 0.45505\n",
            "102/102 [==============================] - 27s 263ms/step - loss: 0.1208 - accuracy: 0.9614 - val_loss: 0.6158 - val_accuracy: 0.8744\n",
            "Epoch 17/30\n",
            "102/102 [==============================] - ETA: 0s - loss: 0.1093 - accuracy: 0.9660\n",
            "Epoch 17: val_loss did not improve from 0.45505\n",
            "102/102 [==============================] - 26s 255ms/step - loss: 0.1093 - accuracy: 0.9660 - val_loss: 4.9536 - val_accuracy: 0.4713\n",
            "Epoch 18/30\n",
            "102/102 [==============================] - ETA: 0s - loss: 0.1276 - accuracy: 0.9589\n",
            "Epoch 18: val_loss did not improve from 0.45505\n",
            "102/102 [==============================] - 26s 257ms/step - loss: 0.1276 - accuracy: 0.9589 - val_loss: 1.0020 - val_accuracy: 0.7681\n",
            "Epoch 19/30\n",
            "102/102 [==============================] - ETA: 0s - loss: 0.1203 - accuracy: 0.9628\n",
            "Epoch 19: val_loss did not improve from 0.45505\n",
            "102/102 [==============================] - 26s 256ms/step - loss: 0.1203 - accuracy: 0.9628 - val_loss: 3.3227 - val_accuracy: 0.5562\n",
            "Epoch 20/30\n",
            "102/102 [==============================] - ETA: 0s - loss: 0.1159 - accuracy: 0.9629\n",
            "Epoch 20: val_loss did not improve from 0.45505\n",
            "102/102 [==============================] - 26s 255ms/step - loss: 0.1159 - accuracy: 0.9629 - val_loss: 2.4312 - val_accuracy: 0.6075\n",
            "Epoch 21/30\n",
            "102/102 [==============================] - ETA: 0s - loss: 0.0994 - accuracy: 0.9692\n",
            "Epoch 21: val_loss did not improve from 0.45505\n",
            "102/102 [==============================] - 26s 252ms/step - loss: 0.0994 - accuracy: 0.9692 - val_loss: 0.5369 - val_accuracy: 0.8584\n",
            "Epoch 22/30\n",
            "102/102 [==============================] - ETA: 0s - loss: 0.0972 - accuracy: 0.9694\n",
            "Epoch 22: val_loss did not improve from 0.45505\n",
            "102/102 [==============================] - 26s 253ms/step - loss: 0.0972 - accuracy: 0.9694 - val_loss: 0.5270 - val_accuracy: 0.8898\n",
            "Epoch 23/30\n",
            "102/102 [==============================] - ETA: 0s - loss: 0.1132 - accuracy: 0.9648\n",
            "Epoch 23: val_loss did not improve from 0.45505\n",
            "102/102 [==============================] - 25s 246ms/step - loss: 0.1132 - accuracy: 0.9648 - val_loss: 1.7238 - val_accuracy: 0.7141\n",
            "Epoch 24/30\n",
            "102/102 [==============================] - ETA: 0s - loss: 0.1006 - accuracy: 0.9697\n",
            "Epoch 24: val_loss did not improve from 0.45505\n",
            "102/102 [==============================] - 26s 258ms/step - loss: 0.1006 - accuracy: 0.9697 - val_loss: 0.6544 - val_accuracy: 0.8388\n",
            "Epoch 25/30\n",
            "102/102 [==============================] - ETA: 0s - loss: 0.0915 - accuracy: 0.9712\n",
            "Epoch 25: val_loss did not improve from 0.45505\n",
            "102/102 [==============================] - 26s 252ms/step - loss: 0.0915 - accuracy: 0.9712 - val_loss: 0.4609 - val_accuracy: 0.8865\n",
            "Epoch 26/30\n",
            "102/102 [==============================] - ETA: 0s - loss: 0.1060 - accuracy: 0.9654\n",
            "Epoch 26: val_loss did not improve from 0.45505\n",
            "102/102 [==============================] - 25s 247ms/step - loss: 0.1060 - accuracy: 0.9654 - val_loss: 5.5906 - val_accuracy: 0.4553\n",
            "Epoch 27/30\n",
            "102/102 [==============================] - ETA: 0s - loss: 0.0962 - accuracy: 0.9714\n",
            "Epoch 27: val_loss did not improve from 0.45505\n",
            "102/102 [==============================] - 25s 242ms/step - loss: 0.0962 - accuracy: 0.9714 - val_loss: 0.5012 - val_accuracy: 0.8995\n",
            "Epoch 28/30\n",
            "102/102 [==============================] - ETA: 0s - loss: 0.0856 - accuracy: 0.9709\n",
            "Epoch 28: val_loss did not improve from 0.45505\n",
            "102/102 [==============================] - 25s 243ms/step - loss: 0.0856 - accuracy: 0.9709 - val_loss: 1.4947 - val_accuracy: 0.7376\n",
            "Epoch 29/30\n",
            "102/102 [==============================] - ETA: 0s - loss: 0.0706 - accuracy: 0.9792\n",
            "Epoch 29: val_loss did not improve from 0.45505\n",
            "102/102 [==============================] - 25s 245ms/step - loss: 0.0706 - accuracy: 0.9792 - val_loss: 1.0833 - val_accuracy: 0.7802\n",
            "Epoch 30/30\n",
            "102/102 [==============================] - ETA: 0s - loss: 0.0791 - accuracy: 0.9740\n",
            "Epoch 30: val_loss did not improve from 0.45505\n",
            "102/102 [==============================] - 25s 248ms/step - loss: 0.0791 - accuracy: 0.9740 - val_loss: 7.1278 - val_accuracy: 0.2956\n"
          ]
        }
      ]
    },
    {
      "cell_type": "code",
      "source": [
        "model.load_weights(\"/content/drive/MyDrive/DevBest_Model.hdf5\")"
      ],
      "metadata": {
        "id": "hnI93W4W_m6G"
      },
      "execution_count": 19,
      "outputs": []
    },
    {
      "cell_type": "code",
      "source": [
        "prediction = np.argmax(model.predict(training_set), axis = 1)"
      ],
      "metadata": {
        "colab": {
          "base_uri": "https://localhost:8080/"
        },
        "id": "ePreJ8RUVM6C",
        "outputId": "dfb957a0-dd80-4209-9209-4e972760b306"
      },
      "execution_count": 20,
      "outputs": [
        {
          "output_type": "stream",
          "name": "stdout",
          "text": [
            "102/102 [==============================] - 1490s 15s/step\n"
          ]
        }
      ]
    },
    {
      "cell_type": "markdown",
      "source": [
        "##### Make Predictions"
      ],
      "metadata": {
        "id": "KIW-G5iHV44V"
      }
    },
    {
      "cell_type": "code",
      "source": [
        "y_test = training_set.classes"
      ],
      "metadata": {
        "id": "Csd0Etq1V2CL"
      },
      "execution_count": 23,
      "outputs": []
    },
    {
      "cell_type": "code",
      "source": [
        "training_set.class_indices"
      ],
      "metadata": {
        "colab": {
          "base_uri": "https://localhost:8080/"
        },
        "id": "rsIqnkF0NefI",
        "outputId": "f87eab1c-44d6-478b-a304-30995e9d174f"
      },
      "execution_count": 53,
      "outputs": [
        {
          "output_type": "execute_result",
          "data": {
            "text/plain": [
              "{'1': 0,\n",
              " '10': 1,\n",
              " '11': 2,\n",
              " '12': 3,\n",
              " '13': 4,\n",
              " '14': 5,\n",
              " '15': 6,\n",
              " '16': 7,\n",
              " '17': 8,\n",
              " '18': 9,\n",
              " '19': 10,\n",
              " '2': 11,\n",
              " '20': 12,\n",
              " '21': 13,\n",
              " '22': 14,\n",
              " '23': 15,\n",
              " '24': 16,\n",
              " '25': 17,\n",
              " '26': 18,\n",
              " '27': 19,\n",
              " '28': 20,\n",
              " '29': 21,\n",
              " '3': 22,\n",
              " '30': 23,\n",
              " '31': 24,\n",
              " '32': 25,\n",
              " '33': 26,\n",
              " '34': 27,\n",
              " '35': 28,\n",
              " '36': 29,\n",
              " '37': 30,\n",
              " '38': 31,\n",
              " '39': 32,\n",
              " '4': 33,\n",
              " '40': 34,\n",
              " '41': 35,\n",
              " '42': 36,\n",
              " '43': 37,\n",
              " '44': 38,\n",
              " '45': 39,\n",
              " '46': 40,\n",
              " '47': 41,\n",
              " '48': 42,\n",
              " '5': 43,\n",
              " '6': 44,\n",
              " '7': 45,\n",
              " '8': 46,\n",
              " '9': 47}"
            ]
          },
          "metadata": {},
          "execution_count": 53
        }
      ]
    },
    {
      "cell_type": "code",
      "source": [
        "prediction"
      ],
      "metadata": {
        "colab": {
          "base_uri": "https://localhost:8080/"
        },
        "id": "8uoylPH_LUYM",
        "outputId": "7271ce91-c3a0-487e-9300-7e6b6cbbe20c"
      },
      "execution_count": 28,
      "outputs": [
        {
          "output_type": "execute_result",
          "data": {
            "text/plain": [
              "array([14, 42, 44, ..., 37, 24, 32])"
            ]
          },
          "metadata": {},
          "execution_count": 28
        }
      ]
    },
    {
      "cell_type": "code",
      "source": [
        "y_test"
      ],
      "metadata": {
        "colab": {
          "base_uri": "https://localhost:8080/"
        },
        "id": "yqM6Yi03Lx-b",
        "outputId": "9e1ec254-d376-4d1a-86d6-1b2095e6dd80"
      },
      "execution_count": 29,
      "outputs": [
        {
          "output_type": "execute_result",
          "data": {
            "text/plain": [
              "array([ 0,  0,  0, ..., 47, 47, 47], dtype=int32)"
            ]
          },
          "metadata": {},
          "execution_count": 29
        }
      ]
    },
    {
      "cell_type": "code",
      "source": [
        "X_data_new = []\n",
        "img_new = cv2.imread('/content/drive/MyDrive/Devanagari/Devanagari/TEST/10/001_01.jpg')"
      ],
      "metadata": {
        "id": "jihlB9FIL0XD"
      },
      "execution_count": 46,
      "outputs": []
    },
    {
      "cell_type": "code",
      "source": [
        "plt.imshow(img_new)"
      ],
      "metadata": {
        "colab": {
          "base_uri": "https://localhost:8080/",
          "height": 447
        },
        "id": "fnMo6-aHMEN5",
        "outputId": "58db14d4-50d4-47f7-a24f-7529fbc972ff"
      },
      "execution_count": 47,
      "outputs": [
        {
          "output_type": "execute_result",
          "data": {
            "text/plain": [
              "<matplotlib.image.AxesImage at 0x7f69bef53010>"
            ]
          },
          "metadata": {},
          "execution_count": 47
        },
        {
          "output_type": "display_data",
          "data": {
            "text/plain": [
              "<Figure size 640x480 with 1 Axes>"
            ],
            "image/png": "[encoded data removed]"
          },
          "metadata": {}
        }
      ]
    },
    {
      "cell_type": "code",
      "source": [
        "devnagari_new = cv2.resize(img_new, (64, 64))\n",
        "b, g , r = cv2.split(devnagari_new)\n",
        "img_new = cv2.merge([r, g, b])\n",
        "X_data_new.append(img_new)"
      ],
      "metadata": {
        "id": "qacEs0vRMRf0"
      },
      "execution_count": 48,
      "outputs": []
    },
    {
      "cell_type": "code",
      "source": [
        "X_new = np.squeeze(X_data_new)"
      ],
      "metadata": {
        "id": "J-wTQBAEMVdx"
      },
      "execution_count": 49,
      "outputs": []
    },
    {
      "cell_type": "code",
      "source": [
        "X_new = X_new.astype('float32')\n",
        "X_new /= 255"
      ],
      "metadata": {
        "id": "kyJsMWW7MW_U"
      },
      "execution_count": 50,
      "outputs": []
    },
    {
      "cell_type": "code",
      "source": [
        "# 1 image, shape of\n",
        "X_new = X_new.reshape(1, 64, 64, 3)"
      ],
      "metadata": {
        "id": "ma_X3TO8MYjS"
      },
      "execution_count": 51,
      "outputs": []
    },
    {
      "cell_type": "code",
      "source": [
        "np.argmax(model.predict(X_new))"
      ],
      "metadata": {
        "colab": {
          "base_uri": "https://localhost:8080/"
        },
        "id": "LOAQjyo-MiYz",
        "outputId": "2a08a18a-3a75-40cf-ea57-2ec8829a0b9d"
      },
      "execution_count": 52,
      "outputs": [
        {
          "output_type": "stream",
          "name": "stdout",
          "text": [
            "1/1 [==============================] - 0s 37ms/step\n"
          ]
        },
        {
          "output_type": "execute_result",
          "data": {
            "text/plain": [
              "1"
            ]
          },
          "metadata": {},
          "execution_count": 52
        }
      ]
    },
    {
      "cell_type": "code",
      "source": [],
      "metadata": {
        "id": "tNjlBBTZMj9b"
      },
      "execution_count": null,
      "outputs": []
    }
  ]
}